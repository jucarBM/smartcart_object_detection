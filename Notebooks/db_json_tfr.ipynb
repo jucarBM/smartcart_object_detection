{
 "cells": [
  {
   "cell_type": "code",
   "execution_count": 10,
   "metadata": {},
   "outputs": [
    {
     "name": "stdout",
     "output_type": "stream",
     "text": [
      "Requirement already satisfied: tf_slim in /Users/jucar/.local/share/virtualenvs/Curso_computer_vision-agCS5cFW/lib/python3.9/site-packages (1.1.0)\n",
      "Requirement already satisfied: absl-py>=0.2.2 in /Users/jucar/.local/share/virtualenvs/Curso_computer_vision-agCS5cFW/lib/python3.9/site-packages (from tf_slim) (1.0.0)\n",
      "Requirement already satisfied: six in /Users/jucar/.local/share/virtualenvs/Curso_computer_vision-agCS5cFW/lib/python3.9/site-packages (from absl-py>=0.2.2->tf_slim) (1.16.0)\n"
     ]
    }
   ],
   "source": [
    "import json\n",
    "import pickle\n",
    "import zipfile\n",
    "import pandas as pd\n",
    "\n",
    "!pip3 install tf_slim"
   ]
  },
  {
   "cell_type": "code",
   "execution_count": 13,
   "metadata": {},
   "outputs": [],
   "source": [
    "type_file = \"train\"\n",
    "path_train = '../dataset/dataset_json/train/_annotations.coco.json'\n",
    "data_file = open(path_train)\n",
    "data = json.load(data_file)"
   ]
  },
  {
   "cell_type": "code",
   "execution_count": 19,
   "metadata": {},
   "outputs": [
    {
     "ename": "TypeError",
     "evalue": "string indices must be integers",
     "output_type": "error",
     "traceback": [
      "\u001b[0;31m---------------------------------------------------------------------------\u001b[0m",
      "\u001b[0;31mTypeError\u001b[0m                                 Traceback (most recent call last)",
      "\u001b[1;32m/Users/jucar/Documents/Projects/Curso computer vision/Notebooks/db_json_tfr.ipynb Cell 3'\u001b[0m in \u001b[0;36m<cell line: 3>\u001b[0;34m()\u001b[0m\n\u001b[1;32m      <a href='vscode-notebook-cell:/Users/jucar/Documents/Projects/Curso%20computer%20vision/Notebooks/db_json_tfr.ipynb#ch0000004?line=0'>1</a>\u001b[0m csv_list \u001b[39m=\u001b[39m []\n\u001b[1;32m      <a href='vscode-notebook-cell:/Users/jucar/Documents/Projects/Curso%20computer%20vision/Notebooks/db_json_tfr.ipynb#ch0000004?line=2'>3</a>\u001b[0m \u001b[39mfor\u001b[39;00m classification \u001b[39min\u001b[39;00m data:\n\u001b[0;32m----> <a href='vscode-notebook-cell:/Users/jucar/Documents/Projects/Curso%20computer%20vision/Notebooks/db_json_tfr.ipynb#ch0000004?line=3'>4</a>\u001b[0m     width, height \u001b[39m=\u001b[39m classification[\u001b[39m'\u001b[39;49m\u001b[39mwidth\u001b[39;49m\u001b[39m'\u001b[39;49m], classification[\u001b[39m'\u001b[39m\u001b[39mheight\u001b[39m\u001b[39m'\u001b[39m]\n\u001b[1;32m      <a href='vscode-notebook-cell:/Users/jucar/Documents/Projects/Curso%20computer%20vision/Notebooks/db_json_tfr.ipynb#ch0000004?line=4'>5</a>\u001b[0m     image \u001b[39m=\u001b[39m classification[\u001b[39m'\u001b[39m\u001b[39mimage\u001b[39m\u001b[39m'\u001b[39m]\n\u001b[1;32m      <a href='vscode-notebook-cell:/Users/jucar/Documents/Projects/Curso%20computer%20vision/Notebooks/db_json_tfr.ipynb#ch0000004?line=5'>6</a>\u001b[0m     \u001b[39mfor\u001b[39;00m item \u001b[39min\u001b[39;00m classification[\u001b[39m'\u001b[39m\u001b[39mtags\u001b[39m\u001b[39m'\u001b[39m]:\n",
      "\u001b[0;31mTypeError\u001b[0m: string indices must be integers"
     ]
    }
   ],
   "source": [
    "csv_list = []\n",
    "\n",
    "for classification in data:\n",
    "    width, height = classification['width'], classification['height']\n",
    "    image = classification['image']\n",
    "    for item in classification['tags']:\n",
    "        name = item['name']\n",
    "        xmin = item['pos']['x']\n",
    "        ymin = item['pos']['y']\n",
    "        xmax = xmin + item['pos']['w']\n",
    "        ymax = ymin + item['pos']['h']\n",
    "        csv_list.append([image, width, height, name, xmin, ymin, xmax, ymax])\n",
    "    \n",
    "column_name = ['filename', 'width', 'height', 'class', 'xmin', 'ymin', 'xmax', 'ymax']\n",
    "csv_df = pd.DataFrame(csv_list, columns=column_name)\n",
    "\n",
    "csv_df.to_csv(\"../dataset/dataset_csv/train.csv\", index=None)\n",
    "    "
   ]
  }
 ],
 "metadata": {
  "interpreter": {
   "hash": "31f2aee4e71d21fbe5cf8b01ff0e069b9275f58929596ceb00d14d90e3e16cd6"
  },
  "kernelspec": {
   "display_name": "Python 3.8.9 64-bit",
   "language": "python",
   "name": "python3"
  },
  "language_info": {
   "codemirror_mode": {
    "name": "ipython",
    "version": 3
   },
   "file_extension": ".py",
   "mimetype": "text/x-python",
   "name": "python",
   "nbconvert_exporter": "python",
   "pygments_lexer": "ipython3",
   "version": "3.9.12"
  },
  "orig_nbformat": 4
 },
 "nbformat": 4,
 "nbformat_minor": 2
}
