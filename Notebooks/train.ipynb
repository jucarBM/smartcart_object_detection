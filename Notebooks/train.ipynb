{
  "cells": [
    {
      "cell_type": "markdown",
      "metadata": {
        "id": "qUsH428GgSs5"
      },
      "source": [
        "### Que compone el entrenamiento\n",
        "- Labelmap\n",
        "- Tfrecords (train, test)\n",
        "- Modelo pre-entrenado\n",
        "- Configurtar pipeline.config"
      ]
    },
    {
      "cell_type": "code",
      "execution_count": null,
      "metadata": {
        "colab": {
          "base_uri": "https://localhost:8080/"
        },
        "id": "_LwUcdTdynsy",
        "outputId": "07890684-6dc8-4b5b-adc1-9fa1b5df71be"
      },
      "outputs": [],
      "source": [
        "import os\n",
        "import pandas as pd\n",
        "import json\n",
        "import pickle\n",
        "import zipfile\n",
        "import shutil\n",
        "\n",
        "# Instalamos los paquetes necesarios para que funcione desde la Colab\n",
        "!pip install avro-python3\n",
        "!pip install tf_slim==1.1.0\n",
        "!pip install tf-models-official\n",
        "!pip install lvis\n",
        "!pip install tensorflow_io\n",
        "!pip install keras==2.7.0\n",
        "!pip install opencv-python-headless"
      ]
    },
    {
      "cell_type": "code",
      "execution_count": 3,
      "metadata": {
        "colab": {
          "base_uri": "https://localhost:8080/"
        },
        "id": "qqNeTsIzYs69",
        "outputId": "6e9fa7ba-1a5f-4e43-86c9-b0cb0cf45fcb"
      },
      "outputs": [
        {
          "name": "stdout",
          "output_type": "stream",
          "text": [
            "[Errno 2] No such file or directory: '/content'\n",
            "/Users/jucar/Documents/Projects/Curso computer vision/Notebooks\n",
            "[Errno 2] No such file or directory: '/content/models/'\n",
            "/Users/jucar/Documents/Projects/Curso computer vision/Notebooks\n",
            "zsh:1: command not found: apt-get\n",
            "[Errno 2] No such file or directory: '/content/models/research'\n",
            "/Users/jucar/Documents/Projects/Curso computer vision/Notebooks\n",
            "zsh:1: no matches found: object_detection/protos/*.proto\n",
            "/Users/jucar/.local/share/virtualenvs/Curso_computer_vision-agCS5cFW/bin/python: can't open file '/Users/jucar/Documents/Projects/Curso computer vision/Notebooks/object_detection/builders/model_builder_test.py': [Errno 2] No such file or directory\n"
          ]
        }
      ],
      "source": [
        "import os\n",
        "%cd /content\n",
        "!git clone --quiet https://github.com/tensorflow/models.git\n",
        "%cd /content/models/\n",
        "#!git checkout 58d19c67e1d30d905dd5c6e5092348658fed80af\n",
        "!apt-get update && apt-get install -y -qq protobuf-compiler python-pil python-lxml python-tk\n",
        "!pip install -q Cython contextlib2 pillow lxml matplotlib\n",
        "!pip install -q pycocotools\n",
        "%cd /content/models/research\n",
        "!protoc object_detection/protos/*.proto --python_out=.\n",
        "os.environ['PYTHONPATH'] += ':/content/models/research/:/content/models/research/slim/'\n",
        "!python object_detection/builders/model_builder_test.py"
      ]
    },
    {
      "cell_type": "code",
      "execution_count": 3,
      "metadata": {
        "colab": {
          "base_uri": "https://localhost:8080/"
        },
        "id": "CD3_LgPLg0sy",
        "outputId": "2271332e-9ca3-4dd3-d830-1ea9d33aca07"
      },
      "outputs": [
        {
          "name": "stdout",
          "output_type": "stream",
          "text": [
            "--2022-04-29 01:19:28--  http://download.tensorflow.org/models/object_detection/tf2/20200711/ssd_mobilenet_v2_fpnlite_320x320_coco17_tpu-8.tar.gz\n",
            "Resolving download.tensorflow.org (download.tensorflow.org)... 142.250.148.128, 2607:f8b0:4001:c54::80\n",
            "Connecting to download.tensorflow.org (download.tensorflow.org)|142.250.148.128|:80... connected.\n",
            "HTTP request sent, awaiting response... 200 OK\n",
            "Length: 20515344 (20M) [application/x-tar]\n",
            "Saving to: ‘/content/ssd_mobilenet_v2_fpnlite_320x320_coco17_tpu-8.tar.gz’\n",
            "\n",
            "\r          /content/   0%[                    ]       0  --.-KB/s               \r/content/ssd_mobile 100%[===================>]  19.56M  --.-KB/s    in 0.07s   \n",
            "\n",
            "2022-04-29 01:19:29 (266 MB/s) - ‘/content/ssd_mobilenet_v2_fpnlite_320x320_coco17_tpu-8.tar.gz’ saved [20515344/20515344]\n",
            "\n"
          ]
        }
      ],
      "source": [
        "!wget --no-check-certificate http://download.tensorflow.org/models/object_detection/tf2/20200711/ssd_mobilenet_v2_fpnlite_320x320_coco17_tpu-8.tar.gz \\\n",
        "    -O /content/ssd_mobilenet_v2_fpnlite_320x320_coco17_tpu-8.tar.gz"
      ]
    },
    {
      "cell_type": "code",
      "execution_count": 4,
      "metadata": {
        "colab": {
          "base_uri": "https://localhost:8080/"
        },
        "id": "nYkVKTKRlyTy",
        "outputId": "2d83d53b-f9c2-413f-9ff8-13dafad5804a"
      },
      "outputs": [
        {
          "name": "stdout",
          "output_type": "stream",
          "text": [
            "ssd_mobilenet_v2_fpnlite_320x320_coco17_tpu-8/\n",
            "ssd_mobilenet_v2_fpnlite_320x320_coco17_tpu-8/checkpoint/\n",
            "ssd_mobilenet_v2_fpnlite_320x320_coco17_tpu-8/checkpoint/ckpt-0.data-00000-of-00001\n",
            "ssd_mobilenet_v2_fpnlite_320x320_coco17_tpu-8/checkpoint/checkpoint\n",
            "ssd_mobilenet_v2_fpnlite_320x320_coco17_tpu-8/checkpoint/ckpt-0.index\n",
            "ssd_mobilenet_v2_fpnlite_320x320_coco17_tpu-8/pipeline.config\n",
            "ssd_mobilenet_v2_fpnlite_320x320_coco17_tpu-8/saved_model/\n",
            "ssd_mobilenet_v2_fpnlite_320x320_coco17_tpu-8/saved_model/saved_model.pb\n",
            "ssd_mobilenet_v2_fpnlite_320x320_coco17_tpu-8/saved_model/variables/\n",
            "ssd_mobilenet_v2_fpnlite_320x320_coco17_tpu-8/saved_model/variables/variables.data-00000-of-00001\n",
            "ssd_mobilenet_v2_fpnlite_320x320_coco17_tpu-8/saved_model/variables/variables.index\n",
            "La carpeta se almaceno en /content/models/research/ssd_mobilenet_v2_fpnlite_320x320_coco17_tpu-8\n"
          ]
        }
      ],
      "source": [
        "!tar -zxvf /content/ssd_mobilenet_v2_fpnlite_320x320_coco17_tpu-8.tar.gz\n",
        "output_path = 'ssd_mobilenet_v2_fpnlite_320x320_coco17_tpu-8'\n",
        "output_path = os.path.join(os.getcwd(), output_path)\n",
        "print(\"La carpeta se almaceno en {}\".format(output_path))"
      ]
    },
    {
      "cell_type": "code",
      "execution_count": 5,
      "metadata": {
        "id": "u0RiC8DgmGlq"
      },
      "outputs": [],
      "source": [
        "path_training = '/content/ssd_mobilenet'\n",
        "os.mkdir(path_training)"
      ]
    },
    {
      "cell_type": "code",
      "execution_count": 6,
      "metadata": {
        "colab": {
          "base_uri": "https://localhost:8080/",
          "height": 35
        },
        "id": "NAEJx_PLmmfS",
        "outputId": "c0d3280d-676d-4408-c4fe-8f81683dad14"
      },
      "outputs": [
        {
          "data": {
            "application/vnd.google.colaboratory.intrinsic+json": {
              "type": "string"
            },
            "text/plain": [
              "'/content/ssd_mobilenet/pipeline.config'"
            ]
          },
          "execution_count": 6,
          "metadata": {},
          "output_type": "execute_result"
        }
      ],
      "source": [
        "source_config = \"{}/pipeline.config\".format(output_path)\n",
        "target_config = \"{}/pipeline.config\".format(path_training)\n",
        "shutil.copyfile(source_config, target_config)"
      ]
    },
    {
      "cell_type": "code",
      "execution_count": 7,
      "metadata": {
        "id": "hRxSaMzMqI3f"
      },
      "outputs": [],
      "source": [
        "import tensorflow as tf\n",
        "from object_detection.utils import config_util\n",
        "from object_detection.protos import pipeline_pb2\n",
        "from google.protobuf import text_format"
      ]
    },
    {
      "cell_type": "code",
      "execution_count": 8,
      "metadata": {
        "id": "GUei86bFqRbc"
      },
      "outputs": [],
      "source": [
        "config = config_util.get_configs_from_pipeline_file(target_config)"
      ]
    },
    {
      "cell_type": "code",
      "execution_count": 9,
      "metadata": {
        "id": "fvIudsM9rE_a"
      },
      "outputs": [],
      "source": [
        "pipeline_config = pipeline_pb2.TrainEvalPipelineConfig()\n",
        "with tf.io.gfile.GFile(target_config, \"r\") as f:\n",
        "  proto_str = f.read()\n",
        "  text_format.Merge(proto_str, pipeline_config)"
      ]
    },
    {
      "cell_type": "code",
      "execution_count": 10,
      "metadata": {
        "id": "eut_ATIxr0WY"
      },
      "outputs": [],
      "source": [
        "# Definimos las rutas en donde se encuentra los TFRecords y el label map para agregarlos al archivo de configuración del pipeline.config\n",
        "label_map_pbtxt_fname = \"/content/cars_label_map.pbtxt\"\n",
        "train_record_fname = \"/content/cars_train.tfrecord\"\n",
        "test_record_fname = \"/content/cars_test.tfrecord\""
      ]
    },
    {
      "cell_type": "code",
      "execution_count": 11,
      "metadata": {
        "id": "Q6pXGjKbsnUC"
      },
      "outputs": [],
      "source": [
        "# Cantidad de clases del modelo\n",
        "pipeline_config.model.ssd.num_classes = 2\n",
        "\n",
        "# El tamaño del batch size, entre más grande mas costo computacional va a necesitar en el proceso de entrenamiento, pero a su vez entrenara más rapido.\n",
        "pipeline_config.train_config.batch_size = 4\n",
        "\n",
        "# Donde almacenaremos los resultados del entrenamiento\n",
        "pipeline_config.train_config.fine_tune_checkpoint =\"{}/checkpoint/ckpt-0\".format(output_path)\n",
        "\n",
        "# Qué tipo de deteción aplicaremos (Object detection)\n",
        "pipeline_config.train_config.fine_tune_checkpoint_type = \"detection\"\n",
        "\n",
        "# Dirección del label map\n",
        "pipeline_config.train_input_reader.label_map_path = label_map_pbtxt_fname\n",
        "\n",
        "# Dirección del train TFRecord\n",
        "pipeline_config.train_input_reader.tf_record_input_reader.input_path[0] = train_record_fname\n",
        "\n",
        "# Dirección del label map\n",
        "pipeline_config.eval_input_reader[0].label_map_path = label_map_pbtxt_fname\n",
        "\n",
        "# Dirección del test TFRecord\n",
        "pipeline_config.eval_input_reader[0].tf_record_input_reader.input_path[0] = test_record_fname"
      ]
    },
    {
      "cell_type": "code",
      "execution_count": 12,
      "metadata": {
        "id": "eaAI0bpxtOL6"
      },
      "outputs": [],
      "source": [
        "config_text = text_format.MessageToString(pipeline_config)\n",
        "with tf.io.gfile.GFile(target_config, \"wb\") as f:\n",
        "  f.write(config_text)"
      ]
    },
    {
      "cell_type": "code",
      "execution_count": null,
      "metadata": {
        "colab": {
          "base_uri": "https://localhost:8080/"
        },
        "id": "RP-szIoOuHqe",
        "outputId": "9da53822-ae3f-44da-9818-5474c7699740"
      },
      "outputs": [
        {
          "name": "stdout",
          "output_type": "stream",
          "text": [
            "2022-04-29 01:20:00.366758: W tensorflow/core/common_runtime/gpu/gpu_bfc_allocator.cc:39] Overriding allow_growth setting because the TF_FORCE_GPU_ALLOW_GROWTH environment variable is set. Original config value was 0.\n",
            "INFO:tensorflow:Using MirroredStrategy with devices ('/job:localhost/replica:0/task:0/device:GPU:0',)\n",
            "I0429 01:20:00.408984 140422678472576 mirrored_strategy.py:374] Using MirroredStrategy with devices ('/job:localhost/replica:0/task:0/device:GPU:0',)\n",
            "INFO:tensorflow:Maybe overwriting train_steps: 5000\n",
            "I0429 01:20:00.413682 140422678472576 config_util.py:552] Maybe overwriting train_steps: 5000\n",
            "INFO:tensorflow:Maybe overwriting use_bfloat16: False\n",
            "I0429 01:20:00.413877 140422678472576 config_util.py:552] Maybe overwriting use_bfloat16: False\n",
            "WARNING:tensorflow:From /content/models/research/object_detection/model_lib_v2.py:564: StrategyBase.experimental_distribute_datasets_from_function (from tensorflow.python.distribute.distribute_lib) is deprecated and will be removed in a future version.\n",
            "Instructions for updating:\n",
            "rename to distribute_datasets_from_function\n",
            "W0429 01:20:00.587341 140422678472576 deprecation.py:343] From /content/models/research/object_detection/model_lib_v2.py:564: StrategyBase.experimental_distribute_datasets_from_function (from tensorflow.python.distribute.distribute_lib) is deprecated and will be removed in a future version.\n",
            "Instructions for updating:\n",
            "rename to distribute_datasets_from_function\n",
            "INFO:tensorflow:Reading unweighted datasets: ['/content/cars_train.tfrecord']\n",
            "I0429 01:20:00.601153 140422678472576 dataset_builder.py:162] Reading unweighted datasets: ['/content/cars_train.tfrecord']\n",
            "INFO:tensorflow:Reading record datasets for input file: ['/content/cars_train.tfrecord']\n",
            "I0429 01:20:00.601371 140422678472576 dataset_builder.py:79] Reading record datasets for input file: ['/content/cars_train.tfrecord']\n",
            "INFO:tensorflow:Number of filenames to read: 1\n",
            "I0429 01:20:00.601515 140422678472576 dataset_builder.py:80] Number of filenames to read: 1\n",
            "WARNING:tensorflow:num_readers has been reduced to 1 to match input file shards.\n",
            "W0429 01:20:00.601656 140422678472576 dataset_builder.py:87] num_readers has been reduced to 1 to match input file shards.\n",
            "WARNING:tensorflow:From /content/models/research/object_detection/builders/dataset_builder.py:104: parallel_interleave (from tensorflow.python.data.experimental.ops.interleave_ops) is deprecated and will be removed in a future version.\n",
            "Instructions for updating:\n",
            "Use `tf.data.Dataset.interleave(map_func, cycle_length, block_length, num_parallel_calls=tf.data.AUTOTUNE)` instead. If sloppy execution is desired, use `tf.data.Options.deterministic`.\n",
            "W0429 01:20:00.608548 140422678472576 deprecation.py:343] From /content/models/research/object_detection/builders/dataset_builder.py:104: parallel_interleave (from tensorflow.python.data.experimental.ops.interleave_ops) is deprecated and will be removed in a future version.\n",
            "Instructions for updating:\n",
            "Use `tf.data.Dataset.interleave(map_func, cycle_length, block_length, num_parallel_calls=tf.data.AUTOTUNE)` instead. If sloppy execution is desired, use `tf.data.Options.deterministic`.\n",
            "WARNING:tensorflow:From /content/models/research/object_detection/builders/dataset_builder.py:236: DatasetV1.map_with_legacy_function (from tensorflow.python.data.ops.dataset_ops) is deprecated and will be removed in a future version.\n",
            "Instructions for updating:\n",
            "Use `tf.data.Dataset.map()\n",
            "W0429 01:20:00.655949 140422678472576 deprecation.py:343] From /content/models/research/object_detection/builders/dataset_builder.py:236: DatasetV1.map_with_legacy_function (from tensorflow.python.data.ops.dataset_ops) is deprecated and will be removed in a future version.\n",
            "Instructions for updating:\n",
            "Use `tf.data.Dataset.map()\n",
            "WARNING:tensorflow:From /usr/local/lib/python3.7/dist-packages/tensorflow/python/util/dispatch.py:1082: sparse_to_dense (from tensorflow.python.ops.sparse_ops) is deprecated and will be removed in a future version.\n",
            "Instructions for updating:\n",
            "Create a `tf.sparse.SparseTensor` and use `tf.sparse.to_dense` instead.\n",
            "W0429 01:20:09.178240 140422678472576 deprecation.py:343] From /usr/local/lib/python3.7/dist-packages/tensorflow/python/util/dispatch.py:1082: sparse_to_dense (from tensorflow.python.ops.sparse_ops) is deprecated and will be removed in a future version.\n",
            "Instructions for updating:\n",
            "Create a `tf.sparse.SparseTensor` and use `tf.sparse.to_dense` instead.\n",
            "WARNING:tensorflow:From /usr/local/lib/python3.7/dist-packages/tensorflow/python/util/dispatch.py:1082: sample_distorted_bounding_box (from tensorflow.python.ops.image_ops_impl) is deprecated and will be removed in a future version.\n",
            "Instructions for updating:\n",
            "`seed2` arg is deprecated.Use sample_distorted_bounding_box_v2 instead.\n",
            "W0429 01:20:12.943412 140422678472576 deprecation.py:343] From /usr/local/lib/python3.7/dist-packages/tensorflow/python/util/dispatch.py:1082: sample_distorted_bounding_box (from tensorflow.python.ops.image_ops_impl) is deprecated and will be removed in a future version.\n",
            "Instructions for updating:\n",
            "`seed2` arg is deprecated.Use sample_distorted_bounding_box_v2 instead.\n",
            "WARNING:tensorflow:From /usr/local/lib/python3.7/dist-packages/tensorflow/python/util/dispatch.py:1082: to_float (from tensorflow.python.ops.math_ops) is deprecated and will be removed in a future version.\n",
            "Instructions for updating:\n",
            "Use `tf.cast` instead.\n",
            "W0429 01:20:15.174654 140422678472576 deprecation.py:343] From /usr/local/lib/python3.7/dist-packages/tensorflow/python/util/dispatch.py:1082: to_float (from tensorflow.python.ops.math_ops) is deprecated and will be removed in a future version.\n",
            "Instructions for updating:\n",
            "Use `tf.cast` instead.\n",
            "/usr/local/lib/python3.7/dist-packages/keras/backend.py:414: UserWarning: `tf.keras.backend.set_learning_phase` is deprecated and will be removed after 2020-10-11. To update it, simply pass a True/False value to the `training` argument of the `__call__` method of your layer or model.\n",
            "  warnings.warn('`tf.keras.backend.set_learning_phase` is deprecated and '\n",
            "INFO:tensorflow:Reduce to /job:localhost/replica:0/task:0/device:CPU:0 then broadcast to ('/job:localhost/replica:0/task:0/device:CPU:0',).\n",
            "I0429 01:20:54.815480 140422678472576 cross_device_ops.py:618] Reduce to /job:localhost/replica:0/task:0/device:CPU:0 then broadcast to ('/job:localhost/replica:0/task:0/device:CPU:0',).\n",
            "INFO:tensorflow:Reduce to /job:localhost/replica:0/task:0/device:CPU:0 then broadcast to ('/job:localhost/replica:0/task:0/device:CPU:0',).\n",
            "I0429 01:20:54.817049 140422678472576 cross_device_ops.py:618] Reduce to /job:localhost/replica:0/task:0/device:CPU:0 then broadcast to ('/job:localhost/replica:0/task:0/device:CPU:0',).\n",
            "INFO:tensorflow:Reduce to /job:localhost/replica:0/task:0/device:CPU:0 then broadcast to ('/job:localhost/replica:0/task:0/device:CPU:0',).\n",
            "I0429 01:20:54.819958 140422678472576 cross_device_ops.py:618] Reduce to /job:localhost/replica:0/task:0/device:CPU:0 then broadcast to ('/job:localhost/replica:0/task:0/device:CPU:0',).\n",
            "INFO:tensorflow:Reduce to /job:localhost/replica:0/task:0/device:CPU:0 then broadcast to ('/job:localhost/replica:0/task:0/device:CPU:0',).\n",
            "I0429 01:20:54.821167 140422678472576 cross_device_ops.py:618] Reduce to /job:localhost/replica:0/task:0/device:CPU:0 then broadcast to ('/job:localhost/replica:0/task:0/device:CPU:0',).\n",
            "INFO:tensorflow:Reduce to /job:localhost/replica:0/task:0/device:CPU:0 then broadcast to ('/job:localhost/replica:0/task:0/device:CPU:0',).\n",
            "I0429 01:20:54.824042 140422678472576 cross_device_ops.py:618] Reduce to /job:localhost/replica:0/task:0/device:CPU:0 then broadcast to ('/job:localhost/replica:0/task:0/device:CPU:0',).\n",
            "INFO:tensorflow:Reduce to /job:localhost/replica:0/task:0/device:CPU:0 then broadcast to ('/job:localhost/replica:0/task:0/device:CPU:0',).\n",
            "I0429 01:20:54.825242 140422678472576 cross_device_ops.py:618] Reduce to /job:localhost/replica:0/task:0/device:CPU:0 then broadcast to ('/job:localhost/replica:0/task:0/device:CPU:0',).\n",
            "INFO:tensorflow:Reduce to /job:localhost/replica:0/task:0/device:CPU:0 then broadcast to ('/job:localhost/replica:0/task:0/device:CPU:0',).\n",
            "I0429 01:20:54.828135 140422678472576 cross_device_ops.py:618] Reduce to /job:localhost/replica:0/task:0/device:CPU:0 then broadcast to ('/job:localhost/replica:0/task:0/device:CPU:0',).\n",
            "INFO:tensorflow:Reduce to /job:localhost/replica:0/task:0/device:CPU:0 then broadcast to ('/job:localhost/replica:0/task:0/device:CPU:0',).\n",
            "I0429 01:20:54.829315 140422678472576 cross_device_ops.py:618] Reduce to /job:localhost/replica:0/task:0/device:CPU:0 then broadcast to ('/job:localhost/replica:0/task:0/device:CPU:0',).\n",
            "INFO:tensorflow:Reduce to /job:localhost/replica:0/task:0/device:CPU:0 then broadcast to ('/job:localhost/replica:0/task:0/device:CPU:0',).\n",
            "I0429 01:20:54.832233 140422678472576 cross_device_ops.py:618] Reduce to /job:localhost/replica:0/task:0/device:CPU:0 then broadcast to ('/job:localhost/replica:0/task:0/device:CPU:0',).\n",
            "INFO:tensorflow:Reduce to /job:localhost/replica:0/task:0/device:CPU:0 then broadcast to ('/job:localhost/replica:0/task:0/device:CPU:0',).\n",
            "I0429 01:20:54.833395 140422678472576 cross_device_ops.py:618] Reduce to /job:localhost/replica:0/task:0/device:CPU:0 then broadcast to ('/job:localhost/replica:0/task:0/device:CPU:0',).\n",
            "WARNING:tensorflow:From /usr/local/lib/python3.7/dist-packages/tensorflow/python/util/deprecation.py:616: calling map_fn_v2 (from tensorflow.python.ops.map_fn) with dtype is deprecated and will be removed in a future version.\n",
            "Instructions for updating:\n",
            "Use fn_output_signature instead\n",
            "W0429 01:20:55.613750 140417915074304 deprecation.py:547] From /usr/local/lib/python3.7/dist-packages/tensorflow/python/util/deprecation.py:616: calling map_fn_v2 (from tensorflow.python.ops.map_fn) with dtype is deprecated and will be removed in a future version.\n",
            "Instructions for updating:\n",
            "Use fn_output_signature instead\n",
            "INFO:tensorflow:Step 100 per-step time 0.585s\n",
            "I0429 01:21:53.890074 140422678472576 model_lib_v2.py:707] Step 100 per-step time 0.585s\n",
            "INFO:tensorflow:{'Loss/classification_loss': 0.21179181,\n",
            " 'Loss/localization_loss': 0.17405935,\n",
            " 'Loss/regularization_loss': 0.15495992,\n",
            " 'Loss/total_loss': 0.54081106,\n",
            " 'learning_rate': 0.0319994}\n",
            "I0429 01:21:53.890686 140422678472576 model_lib_v2.py:708] {'Loss/classification_loss': 0.21179181,\n",
            " 'Loss/localization_loss': 0.17405935,\n",
            " 'Loss/regularization_loss': 0.15495992,\n",
            " 'Loss/total_loss': 0.54081106,\n",
            " 'learning_rate': 0.0319994}\n",
            "INFO:tensorflow:Step 200 per-step time 0.197s\n",
            "I0429 01:22:13.291546 140422678472576 model_lib_v2.py:707] Step 200 per-step time 0.197s\n",
            "INFO:tensorflow:{'Loss/classification_loss': 0.22211525,\n",
            " 'Loss/localization_loss': 0.15555492,\n",
            " 'Loss/regularization_loss': 0.15500449,\n",
            " 'Loss/total_loss': 0.5326747,\n",
            " 'learning_rate': 0.0373328}\n",
            "I0429 01:22:13.291893 140422678472576 model_lib_v2.py:708] {'Loss/classification_loss': 0.22211525,\n",
            " 'Loss/localization_loss': 0.15555492,\n",
            " 'Loss/regularization_loss': 0.15500449,\n",
            " 'Loss/total_loss': 0.5326747,\n",
            " 'learning_rate': 0.0373328}\n",
            "INFO:tensorflow:Step 300 per-step time 0.196s\n",
            "I0429 01:22:32.927557 140422678472576 model_lib_v2.py:707] Step 300 per-step time 0.196s\n",
            "INFO:tensorflow:{'Loss/classification_loss': 0.1563494,\n",
            " 'Loss/localization_loss': 0.1584263,\n",
            " 'Loss/regularization_loss': 0.154843,\n",
            " 'Loss/total_loss': 0.4696187,\n",
            " 'learning_rate': 0.0426662}\n",
            "I0429 01:22:32.927962 140422678472576 model_lib_v2.py:708] {'Loss/classification_loss': 0.1563494,\n",
            " 'Loss/localization_loss': 0.1584263,\n",
            " 'Loss/regularization_loss': 0.154843,\n",
            " 'Loss/total_loss': 0.4696187,\n",
            " 'learning_rate': 0.0426662}\n",
            "INFO:tensorflow:Step 400 per-step time 0.197s\n",
            "I0429 01:22:52.623968 140422678472576 model_lib_v2.py:707] Step 400 per-step time 0.197s\n",
            "INFO:tensorflow:{'Loss/classification_loss': 0.09697087,\n",
            " 'Loss/localization_loss': 0.076240875,\n",
            " 'Loss/regularization_loss': 0.15454367,\n",
            " 'Loss/total_loss': 0.32775542,\n",
            " 'learning_rate': 0.047999598}\n",
            "I0429 01:22:52.624341 140422678472576 model_lib_v2.py:708] {'Loss/classification_loss': 0.09697087,\n",
            " 'Loss/localization_loss': 0.076240875,\n",
            " 'Loss/regularization_loss': 0.15454367,\n",
            " 'Loss/total_loss': 0.32775542,\n",
            " 'learning_rate': 0.047999598}\n",
            "INFO:tensorflow:Step 500 per-step time 0.196s\n",
            "I0429 01:23:12.182244 140422678472576 model_lib_v2.py:707] Step 500 per-step time 0.196s\n",
            "INFO:tensorflow:{'Loss/classification_loss': 0.12783425,\n",
            " 'Loss/localization_loss': 0.11692522,\n",
            " 'Loss/regularization_loss': 0.15424676,\n",
            " 'Loss/total_loss': 0.39900625,\n",
            " 'learning_rate': 0.053333}\n",
            "I0429 01:23:12.182607 140422678472576 model_lib_v2.py:708] {'Loss/classification_loss': 0.12783425,\n",
            " 'Loss/localization_loss': 0.11692522,\n",
            " 'Loss/regularization_loss': 0.15424676,\n",
            " 'Loss/total_loss': 0.39900625,\n",
            " 'learning_rate': 0.053333}\n",
            "INFO:tensorflow:Step 600 per-step time 0.195s\n",
            "I0429 01:23:31.654650 140422678472576 model_lib_v2.py:707] Step 600 per-step time 0.195s\n",
            "INFO:tensorflow:{'Loss/classification_loss': 0.16411676,\n",
            " 'Loss/localization_loss': 0.11264013,\n",
            " 'Loss/regularization_loss': 0.15387012,\n",
            " 'Loss/total_loss': 0.430627,\n",
            " 'learning_rate': 0.0586664}\n",
            "I0429 01:23:31.655056 140422678472576 model_lib_v2.py:708] {'Loss/classification_loss': 0.16411676,\n",
            " 'Loss/localization_loss': 0.11264013,\n",
            " 'Loss/regularization_loss': 0.15387012,\n",
            " 'Loss/total_loss': 0.430627,\n",
            " 'learning_rate': 0.0586664}\n",
            "INFO:tensorflow:Step 700 per-step time 0.195s\n",
            "I0429 01:23:51.154439 140422678472576 model_lib_v2.py:707] Step 700 per-step time 0.195s\n",
            "INFO:tensorflow:{'Loss/classification_loss': 0.13915786,\n",
            " 'Loss/localization_loss': 0.048765346,\n",
            " 'Loss/regularization_loss': 0.15340188,\n",
            " 'Loss/total_loss': 0.3413251,\n",
            " 'learning_rate': 0.0639998}\n",
            "I0429 01:23:51.154892 140422678472576 model_lib_v2.py:708] {'Loss/classification_loss': 0.13915786,\n",
            " 'Loss/localization_loss': 0.048765346,\n",
            " 'Loss/regularization_loss': 0.15340188,\n",
            " 'Loss/total_loss': 0.3413251,\n",
            " 'learning_rate': 0.0639998}\n",
            "INFO:tensorflow:Step 800 per-step time 0.196s\n",
            "I0429 01:24:10.780499 140422678472576 model_lib_v2.py:707] Step 800 per-step time 0.196s\n",
            "INFO:tensorflow:{'Loss/classification_loss': 0.13159485,\n",
            " 'Loss/localization_loss': 0.15138258,\n",
            " 'Loss/regularization_loss': 0.15306087,\n",
            " 'Loss/total_loss': 0.43603832,\n",
            " 'learning_rate': 0.069333196}\n",
            "I0429 01:24:10.780879 140422678472576 model_lib_v2.py:708] {'Loss/classification_loss': 0.13159485,\n",
            " 'Loss/localization_loss': 0.15138258,\n",
            " 'Loss/regularization_loss': 0.15306087,\n",
            " 'Loss/total_loss': 0.43603832,\n",
            " 'learning_rate': 0.069333196}\n"
          ]
        }
      ],
      "source": [
        "num_steps = 5000\n",
        "model_dir = \"/content/ssd_mobilenet\"\n",
        "\n",
        "# Utilizamos directamente la libreria de object detection para ejecutar el script model_main_tf2\n",
        "# Los argumentos principales son el archivo de configuración, la ubicación del modelo y la cantidad de steps que ejecutará.\n",
        "!python /content/models/research/object_detection/model_main_tf2.py \\\n",
        "--pipeline_config_path={target_config} \\\n",
        "--model_dir={model_dir} \\\n",
        "--num_train_steps={num_steps}"
      ]
    },
    {
      "cell_type": "markdown",
      "metadata": {
        "id": "6OxlNoAk6sxN"
      },
      "source": [
        "## Análisis de los resultados con TensorBoard"
      ]
    },
    {
      "cell_type": "code",
      "execution_count": null,
      "metadata": {
        "id": "A1FYZ7mH6pjv"
      },
      "outputs": [],
      "source": [
        "%load_ext tensorboard\n",
        "%tensorboard --logdir \"/content/ssd_mobilenet\""
      ]
    },
    {
      "cell_type": "markdown",
      "metadata": {
        "id": "PiCIYdbq6YA-"
      },
      "source": [
        "## Exportación de modelo\n",
        "\n",
        "Exportamos nuestro modelo para poder utilizarlo en cualquier otro momento.\n"
      ]
    },
    {
      "cell_type": "code",
      "execution_count": null,
      "metadata": {
        "id": "rMp-EINC6fCU"
      },
      "outputs": [],
      "source": [
        "output_directory = \"/content/fine_tuned_model\"\n",
        "\n",
        "!python /content/models/research/object_detection/exporter_main_v2.py \\\n",
        "--input_type image_tensor \\\n",
        "--pipeline_config_path {target_config} \\\n",
        "--trained_checkpoint_dir {model_dir} \\\n",
        "--output_directory {output_directory}"
      ]
    }
  ],
  "metadata": {
    "accelerator": "GPU",
    "colab": {
      "collapsed_sections": [],
      "name": "train.ipynb",
      "provenance": []
    },
    "kernelspec": {
      "display_name": "Python 3",
      "name": "python3"
    },
    "language_info": {
      "codemirror_mode": {
        "name": "ipython",
        "version": 3
      },
      "file_extension": ".py",
      "mimetype": "text/x-python",
      "name": "python",
      "nbconvert_exporter": "python",
      "pygments_lexer": "ipython3",
      "version": "3.9.12"
    }
  },
  "nbformat": 4,
  "nbformat_minor": 0
}
