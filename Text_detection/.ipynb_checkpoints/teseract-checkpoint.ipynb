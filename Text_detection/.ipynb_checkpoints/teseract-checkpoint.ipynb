{
 "cells": [
  {
   "cell_type": "code",
   "execution_count": 1,
   "id": "aea3ccc3-f32e-4b5e-a97c-aa71e39d68bc",
   "metadata": {},
   "outputs": [
    {
     "name": "stdout",
     "output_type": "stream",
     "text": [
      "Collecting pytesseract\n",
      "  Using cached pytesseract-0.3.9-py2.py3-none-any.whl (14 kB)\n",
      "Requirement already satisfied: Pillow>=8.0.0 in c:\\users\\jucar\\documents\\proyectos\\smartcart_object_detection\\ocr\\lib\\site-packages (from pytesseract) (9.1.1)\n",
      "Requirement already satisfied: packaging>=21.3 in c:\\users\\jucar\\documents\\proyectos\\smartcart_object_detection\\ocr\\lib\\site-packages (from pytesseract) (21.3)\n",
      "Requirement already satisfied: pyparsing!=3.0.5,>=2.0.2 in c:\\users\\jucar\\documents\\proyectos\\smartcart_object_detection\\ocr\\lib\\site-packages (from packaging>=21.3->pytesseract) (3.0.9)\n",
      "Installing collected packages: pytesseract\n",
      "Successfully installed pytesseract-0.3.9\n"
     ]
    }
   ],
   "source": [
    "!pip install pytesseract"
   ]
  },
  {
   "cell_type": "code",
   "execution_count": 2,
   "id": "f733a9ca-6a52-44ae-a14a-6a8d26f54edb",
   "metadata": {},
   "outputs": [],
   "source": [
    "import pytesseract\n",
    "import cv2\n",
    "from pytesseract import Output"
   ]
  },
  {
   "cell_type": "code",
   "execution_count": 29,
   "id": "dfebd79f-dfda-4750-b419-6c45ed43de6b",
   "metadata": {
    "tags": []
   },
   "outputs": [
    {
     "name": "stdout",
     "output_type": "stream",
     "text": [
      "{'level': [1, 2, 3, 4, 5], 'page_num': [1, 1, 1, 1, 1], 'block_num': [0, 1, 1, 1, 1], 'par_num': [0, 0, 1, 1, 1], 'line_num': [0, 0, 0, 1, 1], 'word_num': [0, 0, 0, 0, 1], 'left': [0, 0, 0, 0, 0], 'top': [0, 147, 147, 147, 147], 'width': [640, 640, 640, 640, 640], 'height': [480, 333, 333, 333, 333], 'conf': ['-1', '-1', '-1', '-1', '95.000000'], 'text': ['', '', '', '', '']}\n",
      "{'level': [1, 2, 3, 4, 5, 2, 3, 4, 5], 'page_num': [1, 1, 1, 1, 1, 1, 1, 1, 1], 'block_num': [0, 1, 1, 1, 1, 2, 2, 2, 2], 'par_num': [0, 0, 1, 1, 1, 0, 1, 1, 1], 'line_num': [0, 0, 0, 1, 1, 0, 0, 1, 1], 'word_num': [0, 0, 0, 0, 1, 0, 0, 0, 1], 'left': [0, 0, 0, 0, 0, 0, 0, 0, 0], 'top': [0, 0, 0, 0, 0, 378, 378, 378, 378], 'width': [640, 0, 0, 0, 0, 0, 0, 0, 0], 'height': [480, 118, 118, 118, 118, 102, 102, 102, 102], 'conf': ['-1', '-1', '-1', '-1', '95.000000', '-1', '-1', '-1', '95.000000'], 'text': ['', '', '', '', ' ', '', '', '', '']}\n",
      "{'level': [1, 2, 3, 4, 5], 'page_num': [1, 1, 1, 1, 1], 'block_num': [0, 1, 1, 1, 1], 'par_num': [0, 0, 1, 1, 1], 'line_num': [0, 0, 0, 1, 1], 'word_num': [0, 0, 0, 0, 1], 'left': [0, 0, 0, 0, 0], 'top': [0, 146, 146, 146, 146], 'width': [640, 640, 640, 640, 640], 'height': [480, 334, 334, 334, 334], 'conf': ['-1', '-1', '-1', '-1', '95.000000'], 'text': ['', '', '', '', '']}\n",
      "{'level': [1, 2, 3, 4, 5], 'page_num': [1, 1, 1, 1, 1], 'block_num': [0, 1, 1, 1, 1], 'par_num': [0, 0, 1, 1, 1], 'line_num': [0, 0, 0, 1, 1], 'word_num': [0, 0, 0, 0, 1], 'left': [0, 0, 0, 0, 0], 'top': [0, 0, 0, 0, 0], 'width': [640, 0, 0, 0, 0], 'height': [480, 480, 480, 480, 480], 'conf': ['-1', '-1', '-1', '-1', '95.000000'], 'text': ['', '', '', '', '']}\n",
      "{'level': [1, 2, 3, 4, 5], 'page_num': [1, 1, 1, 1, 1], 'block_num': [0, 1, 1, 1, 1], 'par_num': [0, 0, 1, 1, 1], 'line_num': [0, 0, 0, 1, 1], 'word_num': [0, 0, 0, 0, 1], 'left': [0, 0, 0, 0, 0], 'top': [0, 141, 141, 141, 141], 'width': [640, 640, 640, 640, 640], 'height': [480, 339, 339, 339, 339], 'conf': ['-1', '-1', '-1', '-1', '95.000000'], 'text': ['', '', '', '', '']}\n",
      "{'level': [1, 2, 3, 4, 5], 'page_num': [1, 1, 1, 1, 1], 'block_num': [0, 1, 1, 1, 1], 'par_num': [0, 0, 1, 1, 1], 'line_num': [0, 0, 0, 1, 1], 'word_num': [0, 0, 0, 0, 1], 'left': [0, 0, 0, 0, 0], 'top': [0, 141, 141, 141, 141], 'width': [640, 640, 640, 640, 640], 'height': [480, 339, 339, 339, 339], 'conf': ['-1', '-1', '-1', '-1', '95.000000'], 'text': ['', '', '', '', '']}\n",
      "{'level': [1, 2, 3, 4, 5], 'page_num': [1, 1, 1, 1, 1], 'block_num': [0, 1, 1, 1, 1], 'par_num': [0, 0, 1, 1, 1], 'line_num': [0, 0, 0, 1, 1], 'word_num': [0, 0, 0, 0, 1], 'left': [0, 0, 0, 0, 0], 'top': [0, 140, 140, 140, 140], 'width': [640, 640, 640, 640, 640], 'height': [480, 340, 340, 340, 340], 'conf': ['-1', '-1', '-1', '-1', '95.000000'], 'text': ['', '', '', '', '']}\n",
      "{'level': [1, 2, 3, 4, 5], 'page_num': [1, 1, 1, 1, 1], 'block_num': [0, 1, 1, 1, 1], 'par_num': [0, 0, 1, 1, 1], 'line_num': [0, 0, 0, 1, 1], 'word_num': [0, 0, 0, 0, 1], 'left': [0, 0, 0, 0, 0], 'top': [0, 140, 140, 140, 140], 'width': [640, 640, 640, 640, 640], 'height': [480, 340, 340, 340, 340], 'conf': ['-1', '-1', '-1', '-1', '95.000000'], 'text': ['', '', '', '', '']}\n",
      "{'level': [1, 2, 3, 4, 5], 'page_num': [1, 1, 1, 1, 1], 'block_num': [0, 1, 1, 1, 1], 'par_num': [0, 0, 1, 1, 1], 'line_num': [0, 0, 0, 1, 1], 'word_num': [0, 0, 0, 0, 1], 'left': [0, 0, 0, 0, 0], 'top': [0, 139, 139, 139, 139], 'width': [640, 640, 640, 640, 640], 'height': [480, 341, 341, 341, 341], 'conf': ['-1', '-1', '-1', '-1', '95.000000'], 'text': ['', '', '', '', '']}\n",
      "{'level': [1, 2, 3, 4, 5], 'page_num': [1, 1, 1, 1, 1], 'block_num': [0, 1, 1, 1, 1], 'par_num': [0, 0, 1, 1, 1], 'line_num': [0, 0, 0, 1, 1], 'word_num': [0, 0, 0, 0, 1], 'left': [0, 0, 0, 0, 0], 'top': [0, 138, 138, 138, 138], 'width': [640, 640, 640, 640, 640], 'height': [480, 342, 342, 342, 342], 'conf': ['-1', '-1', '-1', '-1', '95.000000'], 'text': ['', '', '', '', '']}\n",
      "{'level': [1, 2, 3, 4, 5], 'page_num': [1, 1, 1, 1, 1], 'block_num': [0, 1, 1, 1, 1], 'par_num': [0, 0, 1, 1, 1], 'line_num': [0, 0, 0, 1, 1], 'word_num': [0, 0, 0, 0, 1], 'left': [0, 0, 0, 0, 0], 'top': [0, 138, 138, 138, 138], 'width': [640, 640, 640, 640, 640], 'height': [480, 342, 342, 342, 342], 'conf': ['-1', '-1', '-1', '-1', '95.000000'], 'text': ['', '', '', '', '']}\n",
      "{'level': [1, 2, 3, 4, 5], 'page_num': [1, 1, 1, 1, 1], 'block_num': [0, 1, 1, 1, 1], 'par_num': [0, 0, 1, 1, 1], 'line_num': [0, 0, 0, 1, 1], 'word_num': [0, 0, 0, 0, 1], 'left': [0, 0, 0, 0, 0], 'top': [0, 138, 138, 138, 138], 'width': [640, 640, 640, 640, 640], 'height': [480, 342, 342, 342, 342], 'conf': ['-1', '-1', '-1', '-1', '95.000000'], 'text': ['', '', '', '', '']}\n",
      "{'level': [1, 2, 3, 4, 5], 'page_num': [1, 1, 1, 1, 1], 'block_num': [0, 1, 1, 1, 1], 'par_num': [0, 0, 1, 1, 1], 'line_num': [0, 0, 0, 1, 1], 'word_num': [0, 0, 0, 0, 1], 'left': [0, 0, 0, 0, 0], 'top': [0, 133, 133, 133, 133], 'width': [640, 640, 640, 640, 640], 'height': [480, 347, 347, 347, 347], 'conf': ['-1', '-1', '-1', '-1', '95.000000'], 'text': ['', '', '', '', '']}\n",
      "{'level': [1, 2, 3, 4, 5], 'page_num': [1, 1, 1, 1, 1], 'block_num': [0, 1, 1, 1, 1], 'par_num': [0, 0, 1, 1, 1], 'line_num': [0, 0, 0, 1, 1], 'word_num': [0, 0, 0, 0, 1], 'left': [0, 0, 0, 0, 0], 'top': [0, 104, 104, 104, 104], 'width': [640, 640, 640, 640, 640], 'height': [480, 376, 376, 376, 376], 'conf': ['-1', '-1', '-1', '-1', '95.000000'], 'text': ['', '', '', '', '']}\n",
      "{'level': [1, 2, 3, 4, 5], 'page_num': [1, 1, 1, 1, 1], 'block_num': [0, 1, 1, 1, 1], 'par_num': [0, 0, 1, 1, 1], 'line_num': [0, 0, 0, 1, 1], 'word_num': [0, 0, 0, 0, 1], 'left': [0, 0, 0, 0, 0], 'top': [0, 52, 52, 52, 52], 'width': [640, 640, 640, 640, 640], 'height': [480, 428, 428, 428, 428], 'conf': ['-1', '-1', '-1', '-1', '95.000000'], 'text': ['', '', '', '', '']}\n",
      "{'level': [1, 2, 3, 4, 5], 'page_num': [1, 1, 1, 1, 1], 'block_num': [0, 1, 1, 1, 1], 'par_num': [0, 0, 1, 1, 1], 'line_num': [0, 0, 0, 1, 1], 'word_num': [0, 0, 0, 0, 1], 'left': [0, 0, 0, 0, 0], 'top': [0, 0, 0, 0, 0], 'width': [640, 640, 640, 640, 640], 'height': [480, 480, 480, 480, 480], 'conf': ['-1', '-1', '-1', '-1', '95.000000'], 'text': ['', '', '', '', '']}\n",
      "{'level': [1, 2, 3, 4, 5], 'page_num': [1, 1, 1, 1, 1], 'block_num': [0, 1, 1, 1, 1], 'par_num': [0, 0, 1, 1, 1], 'line_num': [0, 0, 0, 1, 1], 'word_num': [0, 0, 0, 0, 1], 'left': [0, 0, 0, 0, 0], 'top': [0, 0, 0, 0, 0], 'width': [640, 640, 640, 640, 640], 'height': [480, 480, 480, 480, 480], 'conf': ['-1', '-1', '-1', '-1', '95.000000'], 'text': ['', '', '', '', '']}\n",
      "{'level': [1, 2, 3, 4, 5], 'page_num': [1, 1, 1, 1, 1], 'block_num': [0, 1, 1, 1, 1], 'par_num': [0, 0, 1, 1, 1], 'line_num': [0, 0, 0, 1, 1], 'word_num': [0, 0, 0, 0, 1], 'left': [0, 0, 0, 0, 0], 'top': [0, 0, 0, 0, 0], 'width': [640, 640, 640, 640, 640], 'height': [480, 480, 480, 480, 480], 'conf': ['-1', '-1', '-1', '-1', '95.000000'], 'text': ['', '', '', '', '']}\n",
      "{'level': [1, 2, 3, 4, 5], 'page_num': [1, 1, 1, 1, 1], 'block_num': [0, 1, 1, 1, 1], 'par_num': [0, 0, 1, 1, 1], 'line_num': [0, 0, 0, 1, 1], 'word_num': [0, 0, 0, 0, 1], 'left': [0, 0, 0, 0, 0], 'top': [0, 274, 274, 274, 274], 'width': [640, 102, 102, 102, 102], 'height': [480, 206, 206, 206, 206], 'conf': ['-1', '-1', '-1', '-1', '95.000000'], 'text': ['', '', '', '', '']}\n",
      "{'level': [1, 2, 3, 4, 5], 'page_num': [1, 1, 1, 1, 1], 'block_num': [0, 1, 1, 1, 1], 'par_num': [0, 0, 1, 1, 1], 'line_num': [0, 0, 0, 1, 1], 'word_num': [0, 0, 0, 0, 1], 'left': [0, 0, 0, 0, 0], 'top': [0, 24, 24, 24, 24], 'width': [640, 640, 640, 640, 640], 'height': [480, 456, 456, 456, 456], 'conf': ['-1', '-1', '-1', '-1', '95.000000'], 'text': ['', '', '', '', '']}\n",
      "{'level': [1, 2, 3, 4, 5], 'page_num': [1, 1, 1, 1, 1], 'block_num': [0, 1, 1, 1, 1], 'par_num': [0, 0, 1, 1, 1], 'line_num': [0, 0, 0, 1, 1], 'word_num': [0, 0, 0, 0, 1], 'left': [0, 0, 0, 0, 0], 'top': [0, 44, 44, 44, 44], 'width': [640, 640, 640, 640, 640], 'height': [480, 436, 436, 436, 436], 'conf': ['-1', '-1', '-1', '-1', '95.000000'], 'text': ['', '', '', '', '']}\n",
      "{'level': [1, 2, 3, 4, 5], 'page_num': [1, 1, 1, 1, 1], 'block_num': [0, 1, 1, 1, 1], 'par_num': [0, 0, 1, 1, 1], 'line_num': [0, 0, 0, 1, 1], 'word_num': [0, 0, 0, 0, 1], 'left': [0, 0, 0, 0, 0], 'top': [0, 54, 54, 54, 54], 'width': [640, 640, 640, 640, 640], 'height': [480, 426, 426, 426, 426], 'conf': ['-1', '-1', '-1', '-1', '95.000000'], 'text': ['', '', '', '', '']}\n",
      "{'level': [1, 2, 3, 4, 5], 'page_num': [1, 1, 1, 1, 1], 'block_num': [0, 1, 1, 1, 1], 'par_num': [0, 0, 1, 1, 1], 'line_num': [0, 0, 0, 1, 1], 'word_num': [0, 0, 0, 0, 1], 'left': [0, 0, 0, 0, 0], 'top': [0, 64, 64, 64, 64], 'width': [640, 640, 640, 640, 640], 'height': [480, 416, 416, 416, 416], 'conf': ['-1', '-1', '-1', '-1', '95.000000'], 'text': ['', '', '', '', '']}\n",
      "{'level': [1, 2, 3, 4, 5], 'page_num': [1, 1, 1, 1, 1], 'block_num': [0, 1, 1, 1, 1], 'par_num': [0, 0, 1, 1, 1], 'line_num': [0, 0, 0, 1, 1], 'word_num': [0, 0, 0, 0, 1], 'left': [0, 0, 0, 0, 0], 'top': [0, 73, 73, 73, 73], 'width': [640, 640, 640, 640, 640], 'height': [480, 407, 407, 407, 407], 'conf': ['-1', '-1', '-1', '-1', '95.000000'], 'text': ['', '', '', '', '']}\n",
      "{'level': [1, 2, 3, 4, 5], 'page_num': [1, 1, 1, 1, 1], 'block_num': [0, 1, 1, 1, 1], 'par_num': [0, 0, 1, 1, 1], 'line_num': [0, 0, 0, 1, 1], 'word_num': [0, 0, 0, 0, 1], 'left': [0, 0, 0, 0, 0], 'top': [0, 78, 78, 78, 78], 'width': [640, 640, 640, 640, 640], 'height': [480, 402, 402, 402, 402], 'conf': ['-1', '-1', '-1', '-1', '95.000000'], 'text': ['', '', '', '', '']}\n",
      "{'level': [1, 2, 3, 4, 5], 'page_num': [1, 1, 1, 1, 1], 'block_num': [0, 1, 1, 1, 1], 'par_num': [0, 0, 1, 1, 1], 'line_num': [0, 0, 0, 1, 1], 'word_num': [0, 0, 0, 0, 1], 'left': [0, 0, 0, 0, 0], 'top': [0, 88, 88, 88, 88], 'width': [640, 640, 640, 640, 640], 'height': [480, 392, 392, 392, 392], 'conf': ['-1', '-1', '-1', '-1', '95.000000'], 'text': ['', '', '', '', '']}\n",
      "{'level': [1, 2, 3, 4, 5], 'page_num': [1, 1, 1, 1, 1], 'block_num': [0, 1, 1, 1, 1], 'par_num': [0, 0, 1, 1, 1], 'line_num': [0, 0, 0, 1, 1], 'word_num': [0, 0, 0, 0, 1], 'left': [0, 0, 0, 0, 0], 'top': [0, 100, 100, 100, 100], 'width': [640, 640, 640, 640, 640], 'height': [480, 380, 380, 380, 380], 'conf': ['-1', '-1', '-1', '-1', '95.000000'], 'text': ['', '', '', '', '']}\n",
      "{'level': [1, 2, 3, 4, 5], 'page_num': [1, 1, 1, 1, 1], 'block_num': [0, 1, 1, 1, 1], 'par_num': [0, 0, 1, 1, 1], 'line_num': [0, 0, 0, 1, 1], 'word_num': [0, 0, 0, 0, 1], 'left': [0, 0, 0, 0, 0], 'top': [0, 100, 100, 100, 100], 'width': [640, 640, 640, 640, 640], 'height': [480, 380, 380, 380, 380], 'conf': ['-1', '-1', '-1', '-1', '95.000000'], 'text': ['', '', '', '', '']}\n",
      "{'level': [1], 'page_num': [1], 'block_num': [0], 'par_num': [0], 'line_num': [0], 'word_num': [0], 'left': [0], 'top': [0], 'width': [640], 'height': [480], 'conf': ['-1'], 'text': ['']}\n",
      "{'level': [1, 2, 3, 4, 5], 'page_num': [1, 1, 1, 1, 1], 'block_num': [0, 1, 1, 1, 1], 'par_num': [0, 0, 1, 1, 1], 'line_num': [0, 0, 0, 1, 1], 'word_num': [0, 0, 0, 0, 1], 'left': [0, 0, 0, 0, 0], 'top': [0, 84, 84, 84, 84], 'width': [640, 640, 640, 640, 640], 'height': [480, 396, 396, 396, 396], 'conf': ['-1', '-1', '-1', '-1', '95.000000'], 'text': ['', '', '', '', '']}\n",
      "{'level': [1, 2, 3, 4, 5, 2, 3, 4, 5], 'page_num': [1, 1, 1, 1, 1, 1, 1, 1, 1], 'block_num': [0, 1, 1, 1, 1, 2, 2, 2, 2], 'par_num': [0, 0, 1, 1, 1, 0, 1, 1, 1], 'line_num': [0, 0, 0, 1, 1, 0, 0, 1, 1], 'word_num': [0, 0, 0, 0, 1, 0, 0, 0, 1], 'left': [0, 264, 264, 264, 264, 96, 96, 96, 96], 'top': [0, 295, 295, 295, 295, 232, 232, 232, 232], 'width': [640, 183, 183, 183, 183, 374, 374, 374, 374], 'height': [480, 49, 49, 49, 49, 178, 178, 178, 178], 'conf': ['-1', '-1', '-1', '-1', '92.257492', '-1', '-1', '-1', '95.000000'], 'text': ['', '', '', '', 'DIDUNAL', '', '', '', '']}\n",
      "{'level': [1, 2, 3, 4, 5, 2, 3, 4, 5, 5, 2, 3, 4, 5], 'page_num': [1, 1, 1, 1, 1, 1, 1, 1, 1, 1, 1, 1, 1, 1], 'block_num': [0, 1, 1, 1, 1, 2, 2, 2, 2, 2, 3, 3, 3, 3], 'par_num': [0, 0, 1, 1, 1, 0, 1, 1, 1, 1, 0, 1, 1, 1], 'line_num': [0, 0, 0, 1, 1, 0, 0, 1, 1, 1, 0, 0, 1, 1], 'word_num': [0, 0, 0, 0, 1, 0, 0, 0, 1, 2, 0, 0, 0, 1], 'left': [0, 249, 249, 249, 249, 252, 252, 252, 252, 266, 84, 84, 84, 84], 'top': [0, 265, 265, 265, 265, 305, 305, 305, 312, 305, 204, 204, 204, 204], 'width': [640, 187, 187, 187, 187, 92, 92, 92, 6, 78, 376, 376, 376, 376], 'height': [480, 40, 40, 40, 40, 30, 30, 30, 19, 30, 184, 184, 184, 184], 'conf': ['-1', '-1', '-1', '-1', '92.020447', '-1', '-1', '-1', '89.449768', '0.000000', '-1', '-1', '-1', '95.000000'], 'text': ['', '', '', '', 'DIDUNAL', '', '', '', '4', 'g/omL', '', '', '', '']}\n"
     ]
    },
    {
     "ename": "ValueError",
     "evalue": "invalid literal for int() with base 10: '0.'",
     "output_type": "error",
     "traceback": [
      "\u001b[1;31m---------------------------------------------------------------------------\u001b[0m",
      "\u001b[1;31mValueError\u001b[0m                                Traceback (most recent call last)",
      "Input \u001b[1;32mIn [29]\u001b[0m, in \u001b[0;36m<cell line: 2>\u001b[1;34m()\u001b[0m\n\u001b[0;32m     19\u001b[0m n_boxes \u001b[38;5;241m=\u001b[39m \u001b[38;5;28mlen\u001b[39m(d[\u001b[38;5;124m'\u001b[39m\u001b[38;5;124mlevel\u001b[39m\u001b[38;5;124m'\u001b[39m])\n\u001b[0;32m     20\u001b[0m \u001b[38;5;28;01mfor\u001b[39;00m i \u001b[38;5;129;01min\u001b[39;00m \u001b[38;5;28mrange\u001b[39m(n_boxes):\n\u001b[1;32m---> 21\u001b[0m     \u001b[38;5;28;01mif\u001b[39;00m \u001b[38;5;28;43mint\u001b[39;49m\u001b[43m(\u001b[49m\u001b[43md\u001b[49m\u001b[43m[\u001b[49m\u001b[38;5;124;43m'\u001b[39;49m\u001b[38;5;124;43mconf\u001b[39;49m\u001b[38;5;124;43m'\u001b[39;49m\u001b[43m]\u001b[49m\u001b[43m[\u001b[49m\u001b[43mi\u001b[49m\u001b[43m]\u001b[49m\u001b[43m[\u001b[49m\u001b[43m:\u001b[49m\u001b[38;5;241;43m2\u001b[39;49m\u001b[43m]\u001b[49m\u001b[43m)\u001b[49m \u001b[38;5;241m>\u001b[39m\u001b[38;5;241m15\u001b[39m:\n\u001b[0;32m     22\u001b[0m         (x, y, w, h) \u001b[38;5;241m=\u001b[39m (d[\u001b[38;5;124m'\u001b[39m\u001b[38;5;124mleft\u001b[39m\u001b[38;5;124m'\u001b[39m][i], d[\u001b[38;5;124m'\u001b[39m\u001b[38;5;124mtop\u001b[39m\u001b[38;5;124m'\u001b[39m][i], d[\u001b[38;5;124m'\u001b[39m\u001b[38;5;124mwidth\u001b[39m\u001b[38;5;124m'\u001b[39m][i], d[\u001b[38;5;124m'\u001b[39m\u001b[38;5;124mheight\u001b[39m\u001b[38;5;124m'\u001b[39m][i])\n\u001b[0;32m     23\u001b[0m         cv2\u001b[38;5;241m.\u001b[39mrectangle(frame, (x, y), (x \u001b[38;5;241m+\u001b[39m w, y \u001b[38;5;241m+\u001b[39m h), (\u001b[38;5;241m0\u001b[39m, \u001b[38;5;241m255\u001b[39m, \u001b[38;5;241m0\u001b[39m), \u001b[38;5;241m2\u001b[39m)\n",
      "\u001b[1;31mValueError\u001b[0m: invalid literal for int() with base 10: '0.'"
     ]
    }
   ],
   "source": [
    "vs = cv2.VideoCapture(0)\n",
    "while True:\n",
    "    # Leemos el primer frame\n",
    "    ret, frame = vs.read()\n",
    "\n",
    "    # Si ya no hay más frame\n",
    "    if frame is None:\n",
    "        break\n",
    "    # cv2.imwrite(\n",
    "    #    f'Images/analysis/{count}.png', frame)\n",
    "    # count += 1\n",
    "    # *********************************\n",
    "    # Processing of frames goes here\n",
    "    img_rgb = cv2.cvtColor(frame, cv2.COLOR_BGR2RGB)\n",
    "    custom_config = r'--oem 3 --psm 6'\n",
    "\n",
    "    d = pytesseract.image_to_data(img_rgb, output_type=Output.DICT)\n",
    "    print(d)\n",
    "    n_boxes = len(d['level'])\n",
    "    for i in range(n_boxes):\n",
    "        (x, y, w, h) = (d['left'][i], d['top'][i], d['width'][i], d['height'][i])\n",
    "        cv2.rectangle(frame, (x, y), (x + w, y + h), (0, 255, 0), 2)\n",
    "        cv2.putText(frame, d['text'][i], \n",
    "                    (x, y),\n",
    "                    cv2.FONT_HERSHEY_SIMPLEX,\n",
    "                    0.6, (0, 0, 255), 1)\n",
    "    # *********************************\n",
    "\n",
    "    cv2.imshow('frame', frame)\n",
    "    if cv2.waitKey(1) & 0xFF == ord('q'):\n",
    "        break\n",
    "\n",
    "# After the loop release the cap object\n",
    "vs.release()\n",
    "# Destroy all the windows\n",
    "cv2.destroyAllWindows()"
   ]
  },
  {
   "cell_type": "code",
   "execution_count": 1,
   "id": "dcd1e2fc-cb89-4348-9100-85bff870783a",
   "metadata": {},
   "outputs": [
    {
     "ename": "NameError",
     "evalue": "name 'd' is not defined",
     "output_type": "error",
     "traceback": [
      "\u001b[1;31m---------------------------------------------------------------------------\u001b[0m",
      "\u001b[1;31mNameError\u001b[0m                                 Traceback (most recent call last)",
      "Input \u001b[1;32mIn [1]\u001b[0m, in \u001b[0;36m<cell line: 1>\u001b[1;34m()\u001b[0m\n\u001b[1;32m----> 1\u001b[0m \u001b[43md\u001b[49m\n",
      "\u001b[1;31mNameError\u001b[0m: name 'd' is not defined"
     ]
    }
   ],
   "source": [
    "d"
   ]
  }
 ],
 "metadata": {
  "kernelspec": {
   "display_name": "ocr",
   "language": "python",
   "name": "ocr"
  },
  "language_info": {
   "codemirror_mode": {
    "name": "ipython",
    "version": 3
   },
   "file_extension": ".py",
   "mimetype": "text/x-python",
   "name": "python",
   "nbconvert_exporter": "python",
   "pygments_lexer": "ipython3",
   "version": "3.10.0"
  }
 },
 "nbformat": 4,
 "nbformat_minor": 5
}
