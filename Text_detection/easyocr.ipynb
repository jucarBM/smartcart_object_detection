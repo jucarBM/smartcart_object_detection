{
 "cells": [
  {
   "cell_type": "code",
   "execution_count": null,
   "id": "e35ac2df-7865-4c59-b096-87680528bd5e",
   "metadata": {},
   "outputs": [],
   "source": [
    "    !pip install easyocr"
   ]
  },
  {
   "cell_type": "code",
   "execution_count": 1,
   "id": "74b8112c-9666-47d6-88c6-8da76b89504a",
   "metadata": {},
   "outputs": [],
   "source": [
    "import easyocr\n",
    "import cv2\n",
    "import numpy as np"
   ]
  },
  {
   "cell_type": "code",
   "execution_count": null,
   "id": "da77f4e9-e0cd-4741-8030-f91071a0d7ac",
   "metadata": {},
   "outputs": [],
   "source": [
    "!pip list"
   ]
  },
  {
   "cell_type": "code",
   "execution_count": null,
   "id": "a08cb197-445a-4ec7-89d0-8acbfcfd35ee",
   "metadata": {
    "scrolled": true,
    "tags": []
   },
   "outputs": [],
   "source": [
    "vs = cv2.VideoCapture(0)\n",
    "reader = easyocr.Reader(['es','en']) # this needs to run only once to load the model into memory\n",
    "while True:\n",
    "    # Leemos el primer frame\n",
    "    ret, frame = vs.read()\n",
    "\n",
    "    # Si ya no hay más frame\n",
    "    if frame is None:\n",
    "        break\n",
    "    # cv2.imwrite(\n",
    "    #    f'Images/analysis/{count}.png', frame)\n",
    "    # count += 1\n",
    "    # *********************************\n",
    "    # Processing of frames goes here\n",
    "    image_np = np.array(frame)\n",
    "    results = reader.readtext(image_np)\n",
    "    for result in results:\n",
    "        box = result[0]\n",
    "        text = result[1]\n",
    "        score = int(100*result[2])\n",
    "        cv2.rectangle(frame, (int(box[0][0]), int(box[0][1])),\n",
    "                     (int(box[2][0]), int(box[2][1])), (255, 0, 255), 2)\n",
    "        cv2.putText(frame, text, \n",
    "                (int(box[0][0]), int(box[0][1])),\n",
    "                cv2.FONT_HERSHEY_SIMPLEX,\n",
    "                0.6, (0, 0, 255), 1)\n",
    "    # *********************************\n",
    "\n",
    "    cv2.imshow('frame', frame)\n",
    "    if cv2.waitKey(1) & 0xFF == ord('q'):\n",
    "        break\n",
    "\n",
    "# After the loop release the cap object\n",
    "vs.release()\n",
    "# Destroy all the windows\n",
    "cv2.destroyAllWindows()"
   ]
  },
  {
   "cell_type": "code",
   "execution_count": 28,
   "id": "f142acdf-b929-4386-bb87-1094d2eddcb2",
   "metadata": {},
   "outputs": [
    {
     "data": {
      "text/plain": [
       "[334, 184]"
      ]
     },
     "execution_count": 28,
     "metadata": {},
     "output_type": "execute_result"
    }
   ],
   "source": [
    "result[0][2]"
   ]
  }
 ],
 "metadata": {
  "kernelspec": {
   "display_name": "ocr",
   "language": "python",
   "name": "ocr"
  },
  "language_info": {
   "codemirror_mode": {
    "name": "ipython",
    "version": 3
   },
   "file_extension": ".py",
   "mimetype": "text/x-python",
   "name": "python",
   "nbconvert_exporter": "python",
   "pygments_lexer": "ipython3",
   "version": "3.10.0"
  }
 },
 "nbformat": 4,
 "nbformat_minor": 5
}
